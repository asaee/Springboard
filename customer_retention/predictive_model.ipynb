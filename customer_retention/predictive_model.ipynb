{
 "cells": [
  {
   "cell_type": "markdown",
   "id": "3c1e6333",
   "metadata": {},
   "source": [
    "# Predictive modeling"
   ]
  },
  {
   "cell_type": "markdown",
   "id": "e52f78df",
   "metadata": {},
   "source": [
    "## 1. Objective\n",
    "The aim of this problem is to predict rider retention. To help explore this question, I am working with a sample dataset of a cohort of users who signed up for an account in January 2014. The data was pulled several months later; A user is considered retained if they were “active” (i.e. took a trip) in the preceding 30 days.\n",
    "\n",
    "I was asked to use this data set to help understand what factors are the best predictors for retention, and offer suggestions to operationalize those insights to help the operator. The data is in provided as a json file."
   ]
  },
  {
   "cell_type": "code",
   "execution_count": 1,
   "id": "5dcdc7af",
   "metadata": {},
   "outputs": [],
   "source": [
    "import warnings\n",
    "warnings.filterwarnings('ignore')\n",
    "\n",
    "import json\n",
    "import pandas as pd\n",
    "import matplotlib.pyplot as plt\n",
    "import numpy as np\n",
    "from collections import Counter"
   ]
  },
  {
   "cell_type": "markdown",
   "id": "f570a871",
   "metadata": {},
   "source": [
    "I loaded the database and converted it to a pandas dataframe."
   ]
  },
  {
   "cell_type": "code",
   "execution_count": 2,
   "id": "481b756c",
   "metadata": {},
   "outputs": [
    {
     "data": {
      "text/html": [
       "<div>\n",
       "<style scoped>\n",
       "    .dataframe tbody tr th:only-of-type {\n",
       "        vertical-align: middle;\n",
       "    }\n",
       "\n",
       "    .dataframe tbody tr th {\n",
       "        vertical-align: top;\n",
       "    }\n",
       "\n",
       "    .dataframe thead th {\n",
       "        text-align: right;\n",
       "    }\n",
       "</style>\n",
       "<table border=\"1\" class=\"dataframe\">\n",
       "  <thead>\n",
       "    <tr style=\"text-align: right;\">\n",
       "      <th></th>\n",
       "      <th>city</th>\n",
       "      <th>trips_in_first_30_days</th>\n",
       "      <th>signup_date</th>\n",
       "      <th>avg_rating_of_driver</th>\n",
       "      <th>avg_surge</th>\n",
       "      <th>last_trip_date</th>\n",
       "      <th>phone</th>\n",
       "      <th>surge_pct</th>\n",
       "      <th>ultimate_black_user</th>\n",
       "      <th>weekday_pct</th>\n",
       "      <th>avg_dist</th>\n",
       "      <th>avg_rating_by_driver</th>\n",
       "    </tr>\n",
       "  </thead>\n",
       "  <tbody>\n",
       "    <tr>\n",
       "      <th>0</th>\n",
       "      <td>King's Landing</td>\n",
       "      <td>4</td>\n",
       "      <td>2014-01-25</td>\n",
       "      <td>4.7</td>\n",
       "      <td>1.10</td>\n",
       "      <td>2014-06-17</td>\n",
       "      <td>iPhone</td>\n",
       "      <td>15.4</td>\n",
       "      <td>True</td>\n",
       "      <td>46.2</td>\n",
       "      <td>3.67</td>\n",
       "      <td>5.0</td>\n",
       "    </tr>\n",
       "    <tr>\n",
       "      <th>1</th>\n",
       "      <td>Astapor</td>\n",
       "      <td>0</td>\n",
       "      <td>2014-01-29</td>\n",
       "      <td>5.0</td>\n",
       "      <td>1.00</td>\n",
       "      <td>2014-05-05</td>\n",
       "      <td>Android</td>\n",
       "      <td>0.0</td>\n",
       "      <td>False</td>\n",
       "      <td>50.0</td>\n",
       "      <td>8.26</td>\n",
       "      <td>5.0</td>\n",
       "    </tr>\n",
       "    <tr>\n",
       "      <th>2</th>\n",
       "      <td>Astapor</td>\n",
       "      <td>3</td>\n",
       "      <td>2014-01-06</td>\n",
       "      <td>4.3</td>\n",
       "      <td>1.00</td>\n",
       "      <td>2014-01-07</td>\n",
       "      <td>iPhone</td>\n",
       "      <td>0.0</td>\n",
       "      <td>False</td>\n",
       "      <td>100.0</td>\n",
       "      <td>0.77</td>\n",
       "      <td>5.0</td>\n",
       "    </tr>\n",
       "    <tr>\n",
       "      <th>3</th>\n",
       "      <td>King's Landing</td>\n",
       "      <td>9</td>\n",
       "      <td>2014-01-10</td>\n",
       "      <td>4.6</td>\n",
       "      <td>1.14</td>\n",
       "      <td>2014-06-29</td>\n",
       "      <td>iPhone</td>\n",
       "      <td>20.0</td>\n",
       "      <td>True</td>\n",
       "      <td>80.0</td>\n",
       "      <td>2.36</td>\n",
       "      <td>4.9</td>\n",
       "    </tr>\n",
       "    <tr>\n",
       "      <th>4</th>\n",
       "      <td>Winterfell</td>\n",
       "      <td>14</td>\n",
       "      <td>2014-01-27</td>\n",
       "      <td>4.4</td>\n",
       "      <td>1.19</td>\n",
       "      <td>2014-03-15</td>\n",
       "      <td>Android</td>\n",
       "      <td>11.8</td>\n",
       "      <td>False</td>\n",
       "      <td>82.4</td>\n",
       "      <td>3.13</td>\n",
       "      <td>4.9</td>\n",
       "    </tr>\n",
       "  </tbody>\n",
       "</table>\n",
       "</div>"
      ],
      "text/plain": [
       "             city  trips_in_first_30_days signup_date  avg_rating_of_driver  \\\n",
       "0  King's Landing                       4  2014-01-25                   4.7   \n",
       "1         Astapor                       0  2014-01-29                   5.0   \n",
       "2         Astapor                       3  2014-01-06                   4.3   \n",
       "3  King's Landing                       9  2014-01-10                   4.6   \n",
       "4      Winterfell                      14  2014-01-27                   4.4   \n",
       "\n",
       "   avg_surge last_trip_date    phone  surge_pct  ultimate_black_user  \\\n",
       "0       1.10     2014-06-17   iPhone       15.4                 True   \n",
       "1       1.00     2014-05-05  Android        0.0                False   \n",
       "2       1.00     2014-01-07   iPhone        0.0                False   \n",
       "3       1.14     2014-06-29   iPhone       20.0                 True   \n",
       "4       1.19     2014-03-15  Android       11.8                False   \n",
       "\n",
       "   weekday_pct  avg_dist  avg_rating_by_driver  \n",
       "0         46.2      3.67                   5.0  \n",
       "1         50.0      8.26                   5.0  \n",
       "2        100.0      0.77                   5.0  \n",
       "3         80.0      2.36                   4.9  \n",
       "4         82.4      3.13                   4.9  "
      ]
     },
     "execution_count": 2,
     "metadata": {},
     "output_type": "execute_result"
    }
   ],
   "source": [
    "with open('ultimate_data_challenge.json','r') as file:\n",
    "    customers = json.load(file)\n",
    "    \n",
    "df = pd.DataFrame(customers)\n",
    "df['last_trip_date'] = pd.to_datetime(df['last_trip_date'])\n",
    "df['signup_date'] = pd.to_datetime(df['signup_date'])\n",
    "df['city'] = df['city'].astype('category')\n",
    "df['phone'] = df['phone'].astype('category')\n",
    "df.head()"
   ]
  },
  {
   "cell_type": "markdown",
   "id": "8f0bc2c9",
   "metadata": {},
   "source": [
    "## 2. Data Processing\n",
    "The next few steps involve the cleaning, exploratory analysis, and/or visualizations on data for this analysis. \n",
    "1. The first step was to look at the summary statitics; The range and distribution of the data is variable for the parameters in the dataset. I will use a min-max scaler to make sure the analysis is not be biased."
   ]
  },
  {
   "cell_type": "code",
   "execution_count": 3,
   "id": "987a1369",
   "metadata": {},
   "outputs": [
    {
     "data": {
      "text/html": [
       "<div>\n",
       "<style scoped>\n",
       "    .dataframe tbody tr th:only-of-type {\n",
       "        vertical-align: middle;\n",
       "    }\n",
       "\n",
       "    .dataframe tbody tr th {\n",
       "        vertical-align: top;\n",
       "    }\n",
       "\n",
       "    .dataframe thead th {\n",
       "        text-align: right;\n",
       "    }\n",
       "</style>\n",
       "<table border=\"1\" class=\"dataframe\">\n",
       "  <thead>\n",
       "    <tr style=\"text-align: right;\">\n",
       "      <th></th>\n",
       "      <th>trips_in_first_30_days</th>\n",
       "      <th>avg_rating_of_driver</th>\n",
       "      <th>avg_surge</th>\n",
       "      <th>surge_pct</th>\n",
       "      <th>weekday_pct</th>\n",
       "      <th>avg_dist</th>\n",
       "      <th>avg_rating_by_driver</th>\n",
       "    </tr>\n",
       "  </thead>\n",
       "  <tbody>\n",
       "    <tr>\n",
       "      <th>count</th>\n",
       "      <td>50000.000000</td>\n",
       "      <td>41878.000000</td>\n",
       "      <td>50000.000000</td>\n",
       "      <td>50000.000000</td>\n",
       "      <td>50000.000000</td>\n",
       "      <td>50000.000000</td>\n",
       "      <td>49799.000000</td>\n",
       "    </tr>\n",
       "    <tr>\n",
       "      <th>mean</th>\n",
       "      <td>2.278200</td>\n",
       "      <td>4.601559</td>\n",
       "      <td>1.074764</td>\n",
       "      <td>8.849536</td>\n",
       "      <td>60.926084</td>\n",
       "      <td>5.796827</td>\n",
       "      <td>4.778158</td>\n",
       "    </tr>\n",
       "    <tr>\n",
       "      <th>std</th>\n",
       "      <td>3.792684</td>\n",
       "      <td>0.617338</td>\n",
       "      <td>0.222336</td>\n",
       "      <td>19.958811</td>\n",
       "      <td>37.081503</td>\n",
       "      <td>5.707357</td>\n",
       "      <td>0.446652</td>\n",
       "    </tr>\n",
       "    <tr>\n",
       "      <th>min</th>\n",
       "      <td>0.000000</td>\n",
       "      <td>1.000000</td>\n",
       "      <td>1.000000</td>\n",
       "      <td>0.000000</td>\n",
       "      <td>0.000000</td>\n",
       "      <td>0.000000</td>\n",
       "      <td>1.000000</td>\n",
       "    </tr>\n",
       "    <tr>\n",
       "      <th>25%</th>\n",
       "      <td>0.000000</td>\n",
       "      <td>4.300000</td>\n",
       "      <td>1.000000</td>\n",
       "      <td>0.000000</td>\n",
       "      <td>33.300000</td>\n",
       "      <td>2.420000</td>\n",
       "      <td>4.700000</td>\n",
       "    </tr>\n",
       "    <tr>\n",
       "      <th>50%</th>\n",
       "      <td>1.000000</td>\n",
       "      <td>4.900000</td>\n",
       "      <td>1.000000</td>\n",
       "      <td>0.000000</td>\n",
       "      <td>66.700000</td>\n",
       "      <td>3.880000</td>\n",
       "      <td>5.000000</td>\n",
       "    </tr>\n",
       "    <tr>\n",
       "      <th>75%</th>\n",
       "      <td>3.000000</td>\n",
       "      <td>5.000000</td>\n",
       "      <td>1.050000</td>\n",
       "      <td>8.600000</td>\n",
       "      <td>100.000000</td>\n",
       "      <td>6.940000</td>\n",
       "      <td>5.000000</td>\n",
       "    </tr>\n",
       "    <tr>\n",
       "      <th>max</th>\n",
       "      <td>125.000000</td>\n",
       "      <td>5.000000</td>\n",
       "      <td>8.000000</td>\n",
       "      <td>100.000000</td>\n",
       "      <td>100.000000</td>\n",
       "      <td>160.960000</td>\n",
       "      <td>5.000000</td>\n",
       "    </tr>\n",
       "  </tbody>\n",
       "</table>\n",
       "</div>"
      ],
      "text/plain": [
       "       trips_in_first_30_days  avg_rating_of_driver     avg_surge  \\\n",
       "count            50000.000000          41878.000000  50000.000000   \n",
       "mean                 2.278200              4.601559      1.074764   \n",
       "std                  3.792684              0.617338      0.222336   \n",
       "min                  0.000000              1.000000      1.000000   \n",
       "25%                  0.000000              4.300000      1.000000   \n",
       "50%                  1.000000              4.900000      1.000000   \n",
       "75%                  3.000000              5.000000      1.050000   \n",
       "max                125.000000              5.000000      8.000000   \n",
       "\n",
       "          surge_pct   weekday_pct      avg_dist  avg_rating_by_driver  \n",
       "count  50000.000000  50000.000000  50000.000000          49799.000000  \n",
       "mean       8.849536     60.926084      5.796827              4.778158  \n",
       "std       19.958811     37.081503      5.707357              0.446652  \n",
       "min        0.000000      0.000000      0.000000              1.000000  \n",
       "25%        0.000000     33.300000      2.420000              4.700000  \n",
       "50%        0.000000     66.700000      3.880000              5.000000  \n",
       "75%        8.600000    100.000000      6.940000              5.000000  \n",
       "max      100.000000    100.000000    160.960000              5.000000  "
      ]
     },
     "execution_count": 3,
     "metadata": {},
     "output_type": "execute_result"
    }
   ],
   "source": [
    "df.describe()"
   ]
  },
  {
   "cell_type": "markdown",
   "id": "8aada66a",
   "metadata": {},
   "source": [
    "2. The next step was to identify the data types in the dataset. I am going to use the datetime parameters to develop a retention feature for the analysis. I will also encode the categorical variables as part of the model pipeline."
   ]
  },
  {
   "cell_type": "code",
   "execution_count": 4,
   "id": "0f69b156",
   "metadata": {},
   "outputs": [
    {
     "name": "stdout",
     "output_type": "stream",
     "text": [
      "<class 'pandas.core.frame.DataFrame'>\n",
      "RangeIndex: 50000 entries, 0 to 49999\n",
      "Data columns (total 12 columns):\n",
      " #   Column                  Non-Null Count  Dtype         \n",
      "---  ------                  --------------  -----         \n",
      " 0   city                    50000 non-null  category      \n",
      " 1   trips_in_first_30_days  50000 non-null  int64         \n",
      " 2   signup_date             50000 non-null  datetime64[ns]\n",
      " 3   avg_rating_of_driver    41878 non-null  float64       \n",
      " 4   avg_surge               50000 non-null  float64       \n",
      " 5   last_trip_date          50000 non-null  datetime64[ns]\n",
      " 6   phone                   49604 non-null  category      \n",
      " 7   surge_pct               50000 non-null  float64       \n",
      " 8   ultimate_black_user     50000 non-null  bool          \n",
      " 9   weekday_pct             50000 non-null  float64       \n",
      " 10  avg_dist                50000 non-null  float64       \n",
      " 11  avg_rating_by_driver    49799 non-null  float64       \n",
      "dtypes: bool(1), category(2), datetime64[ns](2), float64(6), int64(1)\n",
      "memory usage: 3.6 MB\n"
     ]
    }
   ],
   "source": [
    "df.info()"
   ]
  },
  {
   "cell_type": "markdown",
   "id": "08b41770",
   "metadata": {},
   "source": [
    "3. The last step for this part is to identify any missing data and decide how to deal with them. \n",
    "    * The `avg_rating_of_driver` has lots of missing data. It is not surprising, because many riders would ignore the optional driver rating especially when they are relativelly satisfied with the service. Therefore, I expect most of the missing data refer to a situation when the rider feeling is about the average (i.e., not very happy and not very dissatisfied). As a result, I will impute the missing data with the mean driver ratings.\n",
    "    * The phone type is missing for small portion of the customers. While it is not a large portion of the dataset, I prefer not to lose that part. So, I will identify the most popular phone type in the dataset and use that to impute the missing data.\n",
    "    * Finally, A relatively small number of customers are missing the `avg_rating_by_driver`. It suggest that it is very likely that those customers did not take many trips. Because, I expect that at least one driver would provide a rating for the customer. Although, it is not a bad decision to remove those customers from the dataset, I am not going to drop those points as well. Given the small number of missing data point, I will use the average ratings to impute the missing data because it will have minimal impact on the results. "
   ]
  },
  {
   "cell_type": "code",
   "execution_count": 5,
   "id": "63af3413",
   "metadata": {},
   "outputs": [
    {
     "name": "stdout",
     "output_type": "stream",
     "text": [
      "city                         0\n",
      "trips_in_first_30_days       0\n",
      "signup_date                  0\n",
      "avg_rating_of_driver      8122\n",
      "avg_surge                    0\n",
      "last_trip_date               0\n",
      "phone                      396\n",
      "surge_pct                    0\n",
      "ultimate_black_user          0\n",
      "weekday_pct                  0\n",
      "avg_dist                     0\n",
      "avg_rating_by_driver       201\n",
      "dtype: int64\n"
     ]
    }
   ],
   "source": [
    "print(df.isnull().sum())"
   ]
  },
  {
   "cell_type": "code",
   "execution_count": 6,
   "id": "69164a65",
   "metadata": {},
   "outputs": [
    {
     "name": "stdout",
     "output_type": "stream",
     "text": [
      "city                      0\n",
      "trips_in_first_30_days    0\n",
      "signup_date               0\n",
      "avg_rating_of_driver      0\n",
      "avg_surge                 0\n",
      "last_trip_date            0\n",
      "phone                     0\n",
      "surge_pct                 0\n",
      "ultimate_black_user       0\n",
      "weekday_pct               0\n",
      "avg_dist                  0\n",
      "avg_rating_by_driver      0\n",
      "dtype: int64\n"
     ]
    }
   ],
   "source": [
    "df['avg_rating_of_driver'].fillna(df['avg_rating_of_driver'].mean(), inplace = True)\n",
    "df['avg_rating_by_driver'].fillna(df['avg_rating_by_driver'].mean(), inplace = True)\n",
    "\n",
    "popular_phone = list(dict(Counter(df['phone'])).keys())[0]\n",
    "df['phone'].fillna(popular_phone, inplace = True)\n",
    "\n",
    "print(df.isnull().sum())"
   ]
  },
  {
   "cell_type": "markdown",
   "id": "71d618f9",
   "metadata": {},
   "source": [
    "## 3. Feature Engineering\n",
    "The goal of this part is to create a feature that can be used to identify the retained customers. According to the instructions a customer is assumed to be retained when they took a ride in the preceding 30 days.\n",
    " * The date and time that database was pulled is not known. So, I will assume the maximum of the maximum of the last trip date to be the time that database was pulled. It is a fair assumption because the database contains 50,000 customer records and it is very unlikely that no ride activity occurs for extended period of time. \n",
    " * The next task is to find the cut-off date and time for the retention. I will deduct 30 days from the database pull date and time and use that as the cut-off.\n",
    " * The last step is to parse the database and identify customers who took a ride between the cut-off date and the date database was pulled.\n",
    " * The label indicate about one third of clients were retained after 6 months on the system.\n"
   ]
  },
  {
   "cell_type": "code",
   "execution_count": 7,
   "id": "142de485",
   "metadata": {},
   "outputs": [
    {
     "name": "stdout",
     "output_type": "stream",
     "text": [
      "Let's assume the 2014-07-01 00:00:00 which is the max last_trip_date in the data is the day the data was pulled.\n"
     ]
    }
   ],
   "source": [
    "print('Let\\'s assume the {} which is the max last_trip_date in the data is the day the data was pulled.'.format(df['last_trip_date'].max()))"
   ]
  },
  {
   "cell_type": "code",
   "execution_count": 8,
   "id": "c5067cf8",
   "metadata": {},
   "outputs": [],
   "source": [
    "begin_date = df['last_trip_date'].max() - pd.Timedelta(days=30)\n",
    "end_date = df['last_trip_date'].max()"
   ]
  },
  {
   "cell_type": "code",
   "execution_count": 9,
   "id": "6804e344",
   "metadata": {},
   "outputs": [
    {
     "data": {
      "text/html": [
       "<div>\n",
       "<style scoped>\n",
       "    .dataframe tbody tr th:only-of-type {\n",
       "        vertical-align: middle;\n",
       "    }\n",
       "\n",
       "    .dataframe tbody tr th {\n",
       "        vertical-align: top;\n",
       "    }\n",
       "\n",
       "    .dataframe thead th {\n",
       "        text-align: right;\n",
       "    }\n",
       "</style>\n",
       "<table border=\"1\" class=\"dataframe\">\n",
       "  <thead>\n",
       "    <tr style=\"text-align: right;\">\n",
       "      <th></th>\n",
       "      <th>city</th>\n",
       "      <th>trips_in_first_30_days</th>\n",
       "      <th>signup_date</th>\n",
       "      <th>avg_rating_of_driver</th>\n",
       "      <th>avg_surge</th>\n",
       "      <th>last_trip_date</th>\n",
       "      <th>phone</th>\n",
       "      <th>surge_pct</th>\n",
       "      <th>ultimate_black_user</th>\n",
       "      <th>weekday_pct</th>\n",
       "      <th>avg_dist</th>\n",
       "      <th>avg_rating_by_driver</th>\n",
       "      <th>retained</th>\n",
       "    </tr>\n",
       "  </thead>\n",
       "  <tbody>\n",
       "    <tr>\n",
       "      <th>0</th>\n",
       "      <td>King's Landing</td>\n",
       "      <td>4</td>\n",
       "      <td>2014-01-25</td>\n",
       "      <td>4.7</td>\n",
       "      <td>1.10</td>\n",
       "      <td>2014-06-17</td>\n",
       "      <td>iPhone</td>\n",
       "      <td>15.4</td>\n",
       "      <td>True</td>\n",
       "      <td>46.2</td>\n",
       "      <td>3.67</td>\n",
       "      <td>5.0</td>\n",
       "      <td>True</td>\n",
       "    </tr>\n",
       "    <tr>\n",
       "      <th>1</th>\n",
       "      <td>Astapor</td>\n",
       "      <td>0</td>\n",
       "      <td>2014-01-29</td>\n",
       "      <td>5.0</td>\n",
       "      <td>1.00</td>\n",
       "      <td>2014-05-05</td>\n",
       "      <td>Android</td>\n",
       "      <td>0.0</td>\n",
       "      <td>False</td>\n",
       "      <td>50.0</td>\n",
       "      <td>8.26</td>\n",
       "      <td>5.0</td>\n",
       "      <td>False</td>\n",
       "    </tr>\n",
       "    <tr>\n",
       "      <th>2</th>\n",
       "      <td>Astapor</td>\n",
       "      <td>3</td>\n",
       "      <td>2014-01-06</td>\n",
       "      <td>4.3</td>\n",
       "      <td>1.00</td>\n",
       "      <td>2014-01-07</td>\n",
       "      <td>iPhone</td>\n",
       "      <td>0.0</td>\n",
       "      <td>False</td>\n",
       "      <td>100.0</td>\n",
       "      <td>0.77</td>\n",
       "      <td>5.0</td>\n",
       "      <td>False</td>\n",
       "    </tr>\n",
       "    <tr>\n",
       "      <th>3</th>\n",
       "      <td>King's Landing</td>\n",
       "      <td>9</td>\n",
       "      <td>2014-01-10</td>\n",
       "      <td>4.6</td>\n",
       "      <td>1.14</td>\n",
       "      <td>2014-06-29</td>\n",
       "      <td>iPhone</td>\n",
       "      <td>20.0</td>\n",
       "      <td>True</td>\n",
       "      <td>80.0</td>\n",
       "      <td>2.36</td>\n",
       "      <td>4.9</td>\n",
       "      <td>True</td>\n",
       "    </tr>\n",
       "    <tr>\n",
       "      <th>4</th>\n",
       "      <td>Winterfell</td>\n",
       "      <td>14</td>\n",
       "      <td>2014-01-27</td>\n",
       "      <td>4.4</td>\n",
       "      <td>1.19</td>\n",
       "      <td>2014-03-15</td>\n",
       "      <td>Android</td>\n",
       "      <td>11.8</td>\n",
       "      <td>False</td>\n",
       "      <td>82.4</td>\n",
       "      <td>3.13</td>\n",
       "      <td>4.9</td>\n",
       "      <td>False</td>\n",
       "    </tr>\n",
       "  </tbody>\n",
       "</table>\n",
       "</div>"
      ],
      "text/plain": [
       "             city  trips_in_first_30_days signup_date  avg_rating_of_driver  \\\n",
       "0  King's Landing                       4  2014-01-25                   4.7   \n",
       "1         Astapor                       0  2014-01-29                   5.0   \n",
       "2         Astapor                       3  2014-01-06                   4.3   \n",
       "3  King's Landing                       9  2014-01-10                   4.6   \n",
       "4      Winterfell                      14  2014-01-27                   4.4   \n",
       "\n",
       "   avg_surge last_trip_date    phone  surge_pct  ultimate_black_user  \\\n",
       "0       1.10     2014-06-17   iPhone       15.4                 True   \n",
       "1       1.00     2014-05-05  Android        0.0                False   \n",
       "2       1.00     2014-01-07   iPhone        0.0                False   \n",
       "3       1.14     2014-06-29   iPhone       20.0                 True   \n",
       "4       1.19     2014-03-15  Android       11.8                False   \n",
       "\n",
       "   weekday_pct  avg_dist  avg_rating_by_driver  retained  \n",
       "0         46.2      3.67                   5.0      True  \n",
       "1         50.0      8.26                   5.0     False  \n",
       "2        100.0      0.77                   5.0     False  \n",
       "3         80.0      2.36                   4.9      True  \n",
       "4         82.4      3.13                   4.9     False  "
      ]
     },
     "execution_count": 9,
     "metadata": {},
     "output_type": "execute_result"
    }
   ],
   "source": [
    "df['retained'] = (df['last_trip_date'] > begin_date) & (df['last_trip_date'] < end_date)\n",
    "df.head()"
   ]
  },
  {
   "cell_type": "markdown",
   "id": "fdf10cfb",
   "metadata": {},
   "source": [
    "## 4. EDA\n",
    "Now that I have processed the database and created a label for retention, I am going to perform a quick exploratory analysis. I mainly want to know if there is any meaningful trend in the data. \n",
    " * There are some outliers in the number of trips in the first 30 days and average travel distance. Those outliers are actively using the service and are retained.\n",
    " * It is evident that the service is more popular in Winterfell; probably because of the extreme cold!!! (Just joking!)\n",
    " * The last plot shows the number of customers retained by phone type. I think iphone users are more interested in this service."
   ]
  },
  {
   "cell_type": "code",
   "execution_count": 10,
   "id": "03132357",
   "metadata": {},
   "outputs": [
    {
     "data": {
      "image/png": "[encoded data removed]",
      "text/plain": [
       "<Figure size 432x288 with 1 Axes>"
      ]
     },
     "metadata": {
      "needs_background": "light"
     },
     "output_type": "display_data"
    }
   ],
   "source": [
    "plt.hist(df['trips_in_first_30_days'])\n",
    "plt.show();"
   ]
  },
  {
   "cell_type": "code",
   "execution_count": 11,
   "id": "0e6e1417",
   "metadata": {},
   "outputs": [
    {
     "data": {
      "image/png": "[encoded data removed]",
      "text/plain": [
       "<Figure size 432x288 with 1 Axes>"
      ]
     },
     "metadata": {
      "needs_background": "light"
     },
     "output_type": "display_data"
    }
   ],
   "source": [
    "plt.hist(df['avg_dist'])\n",
    "plt.show();"
   ]
  },
  {
   "cell_type": "code",
   "execution_count": 12,
   "id": "ecba272f",
   "metadata": {},
   "outputs": [
    {
     "data": {
      "image/png": "[encoded data removed]",
      "text/plain": [
       "<Figure size 432x288 with 1 Axes>"
      ]
     },
     "metadata": {
      "needs_background": "light"
     },
     "output_type": "display_data"
    }
   ],
   "source": [
    "df['city'].value_counts().plot(kind = 'barh',title='Number of customers by city');"
   ]
  },
  {
   "cell_type": "code",
   "execution_count": 13,
   "id": "1a8b8dba",
   "metadata": {},
   "outputs": [
    {
     "data": {
      "image/png": "[encoded data removed]",
      "text/plain": [
       "<Figure size 432x288 with 1 Axes>"
      ]
     },
     "metadata": {
      "needs_background": "light"
     },
     "output_type": "display_data"
    }
   ],
   "source": [
    "df[df['retained']]['phone'].value_counts().plot(kind = 'barh',title='Number of retained customers by phone type');"
   ]
  },
  {
   "cell_type": "markdown",
   "id": "e6075f13",
   "metadata": {},
   "source": [
    "## 5. Classification\n",
    "The present query is a classification problem and I am going to use three algorithms to tackle this problem: \n",
    " * Logistic regression: I used the logistic regression as a starting point and will use this as a baseline for the classification performance. Logistic regression is known for its speed and simple interpretation.\n",
    " * Random forest: It emphasizes feature selection, does not assume that the model has a linear relationship, and utilizes ensemble learning.\n",
    " * Gradient boosting: Finally, I will build a gradient boosting model to explore any performance gain if bias is an issue.\n",
    " \n",
    " \n",
    "I will use the Scikit-Learn's BayesSearchCV to tune all three models. I will consider recall of the not-retained customers class (i.e., `retained == False`) as a key metric for this problem. Because, the service proider may be able to retain some of those clients if it can identify them and offer them some incentives. "
   ]
  },
  {
   "cell_type": "code",
   "execution_count": 14,
   "id": "a29558c5",
   "metadata": {},
   "outputs": [],
   "source": [
    "from sklearn.model_selection import train_test_split\n",
    "from sklearn.preprocessing import OneHotEncoder\n",
    "from sklearn.compose import ColumnTransformer\n",
    "from sklearn.preprocessing import MinMaxScaler\n",
    "from sklearn.pipeline import Pipeline\n",
    "from sklearn.ensemble import RandomForestClassifier\n",
    "from sklearn.linear_model import LogisticRegression\n",
    "from sklearn.ensemble import GradientBoostingClassifier\n",
    "from skopt import BayesSearchCV\n",
    "from sklearn.metrics import classification_report"
   ]
  },
  {
   "cell_type": "markdown",
   "id": "2ce3f49d",
   "metadata": {},
   "source": [
    "### 5.1. Model pipeline\n",
    "I created a pipeline consisting a transformer to make necessary data transformation on categorical and numerical features, followed by the classification model. I defined a paramater grid for hyper-parameter optimization of each classification model.\n",
    "\n",
    "The data will be divided to %75 train and %25 test."
   ]
  },
  {
   "cell_type": "code",
   "execution_count": 15,
   "id": "a6a4aef7",
   "metadata": {},
   "outputs": [],
   "source": [
    "X = df.drop(columns=['retained', 'last_trip_date', 'signup_date'])\n",
    "y = df['retained']\n",
    "\n",
    "# determine categorical and numerical features\n",
    "numerical_columns = X.select_dtypes(include=['int64', 'float64']).columns\n",
    "categorical_columns = X.select_dtypes(include=['object', 'bool', 'category']).columns\n",
    "\n",
    "columnTransformer = ColumnTransformer([\n",
    "    ('encoder', OneHotEncoder(), categorical_columns),\n",
    "    ('num', MinMaxScaler(), numerical_columns)],\n",
    "    remainder='passthrough')"
   ]
  },
  {
   "cell_type": "code",
   "execution_count": 16,
   "id": "3f010d66",
   "metadata": {},
   "outputs": [],
   "source": [
    "X_train, X_test, y_train, y_test = train_test_split(X, y, random_state=22)"
   ]
  },
  {
   "cell_type": "markdown",
   "id": "11689326",
   "metadata": {},
   "source": [
    "#### 5.1.1. Logistic Regression"
   ]
  },
  {
   "cell_type": "code",
   "execution_count": 17,
   "id": "7dce17e3",
   "metadata": {},
   "outputs": [
    {
     "data": {
      "text/plain": [
       "BayesSearchCV(estimator=Pipeline(steps=[('transformer',\n",
       "                                         ColumnTransformer(remainder='passthrough',\n",
       "                                                           transformers=[('encoder',\n",
       "                                                                          OneHotEncoder(),\n",
       "                                                                          Index(['city', 'phone', 'ultimate_black_user'], dtype='object')),\n",
       "                                                                         ('num',\n",
       "                                                                          MinMaxScaler(),\n",
       "                                                                          Index(['trips_in_first_30_days', 'avg_rating_of_driver', 'avg_surge',\n",
       "       'surge_pct', 'weekday_pct', 'avg_dist', 'avg_rating_by_driver'],\n",
       "      dtype='object'))])),\n",
       "                                        ('classifier', LogisticRegression())]),\n",
       "              n_iter=32,\n",
       "              search_spaces={'classifier__C': (1e-05, 100.0, 'log-uniform')})"
      ]
     },
     "execution_count": 17,
     "metadata": {},
     "output_type": "execute_result"
    }
   ],
   "source": [
    "lr_model = LogisticRegression()\n",
    "lr_pipeline = Pipeline([('transformer',columnTransformer),\n",
    "                ('classifier', lr_model)])\n",
    "lr_params = {'classifier__C': (1e-5, 1e2, \"log-uniform\"),}\n",
    "lr_search = BayesSearchCV(estimator=lr_pipeline, search_spaces=lr_params, n_iter=32)\n",
    "lr_search.fit(X_train, y_train)"
   ]
  },
  {
   "cell_type": "code",
   "execution_count": 18,
   "id": "16fa2e25",
   "metadata": {},
   "outputs": [
    {
     "name": "stdout",
     "output_type": "stream",
     "text": [
      "The average score for the logistic regression classifier on the training data is 0.7194666666666667\n",
      "              precision    recall  f1-score   support\n",
      "\n",
      "       False       0.75      0.87      0.81      8088\n",
      "        True       0.67      0.47      0.55      4412\n",
      "\n",
      "    accuracy                           0.73     12500\n",
      "   macro avg       0.71      0.67      0.68     12500\n",
      "weighted avg       0.72      0.73      0.72     12500\n",
      "\n"
     ]
    }
   ],
   "source": [
    "print('The average score for the logistic regression classifier on the training data is {}'.format(lr_search.best_score_))\n",
    "\n",
    "y_pred_lr = lr_search.predict(X_test)\n",
    "\n",
    "print(classification_report(y_test, y_pred_lr))"
   ]
  },
  {
   "cell_type": "markdown",
   "id": "9553a1b6",
   "metadata": {},
   "source": [
    "#### 5.1.2. Random Forest"
   ]
  },
  {
   "cell_type": "code",
   "execution_count": 19,
   "id": "59ff26c5",
   "metadata": {},
   "outputs": [
    {
     "data": {
      "text/plain": [
       "BayesSearchCV(estimator=Pipeline(steps=[('transformer',\n",
       "                                         ColumnTransformer(remainder='passthrough',\n",
       "                                                           transformers=[('encoder',\n",
       "                                                                          OneHotEncoder(),\n",
       "                                                                          Index(['city', 'phone', 'ultimate_black_user'], dtype='object')),\n",
       "                                                                         ('num',\n",
       "                                                                          MinMaxScaler(),\n",
       "                                                                          Index(['trips_in_first_30_days', 'avg_rating_of_driver', 'avg_surge',\n",
       "       'surge_pct', 'weekday_pct', 'avg_dist', 'avg_rating_by_driver'],\n",
       "      dtype='object'))])),\n",
       "                                        ('classifier',\n",
       "                                         RandomForestClassifier(random_state=22))]),\n",
       "              n_iter=32,\n",
       "              search_spaces={'classifier__max_depth': [2, 3, 4, 5, 6],\n",
       "                             'classifier__max_features': ['auto', 'sqrt',\n",
       "                                                          'log2'],\n",
       "                             'classifier__n_estimators': [200, 500]})"
      ]
     },
     "execution_count": 19,
     "metadata": {},
     "output_type": "execute_result"
    }
   ],
   "source": [
    "rf_model = RandomForestClassifier(random_state=22)\n",
    "rf_pipeline = Pipeline([('transformer',columnTransformer),\n",
    "                ('classifier', rf_model)])\n",
    "\n",
    "rf_params = {'classifier__n_estimators': [200, 500],\n",
    "             'classifier__max_features': ['auto', 'sqrt', 'log2'],\n",
    "             'classifier__max_depth' : list(range(2,7)),}\n",
    "rf_search = BayesSearchCV(estimator=rf_pipeline, search_spaces=rf_params, n_iter=32)\n",
    "rf_search.fit(X_train, y_train)"
   ]
  },
  {
   "cell_type": "code",
   "execution_count": 20,
   "id": "d4c6004d",
   "metadata": {},
   "outputs": [
    {
     "name": "stdout",
     "output_type": "stream",
     "text": [
      "The average score for the random forest classifier on the training data is 0.7714133333333333\n",
      "              precision    recall  f1-score   support\n",
      "\n",
      "       False       0.79      0.90      0.84      8088\n",
      "        True       0.74      0.56      0.64      4412\n",
      "\n",
      "    accuracy                           0.78     12500\n",
      "   macro avg       0.77      0.73      0.74     12500\n",
      "weighted avg       0.77      0.78      0.77     12500\n",
      "\n"
     ]
    }
   ],
   "source": [
    "print('The average score for the random forest classifier on the training data is {}'.format(rf_search.best_score_))\n",
    "\n",
    "y_pred_rf = rf_search.predict(X_test)\n",
    "\n",
    "print(classification_report(y_test, y_pred_rf))"
   ]
  },
  {
   "cell_type": "markdown",
   "id": "e276f2ff",
   "metadata": {},
   "source": [
    "#### 5.1.3. Gradient Boosting"
   ]
  },
  {
   "cell_type": "code",
   "execution_count": 21,
   "id": "963dbc09",
   "metadata": {},
   "outputs": [
    {
     "data": {
      "text/plain": [
       "BayesSearchCV(estimator=Pipeline(steps=[('transformer',\n",
       "                                         ColumnTransformer(remainder='passthrough',\n",
       "                                                           transformers=[('encoder',\n",
       "                                                                          OneHotEncoder(),\n",
       "                                                                          Index(['city', 'phone', 'ultimate_black_user'], dtype='object')),\n",
       "                                                                         ('num',\n",
       "                                                                          MinMaxScaler(),\n",
       "                                                                          Index(['trips_in_first_30_days', 'avg_rating_of_driver', 'avg_surge',\n",
       "       'surge_pct', 'weekday_pct', 'avg_dist', 'avg_rating_by_driver'],\n",
       "      dtype='object'))])),\n",
       "                                        ('classifier',\n",
       "                                         GradientBoostingClassifier(random_state=22))]),\n",
       "              n_iter=32,\n",
       "              search_spaces={'classifier__learning_rate': (0.0001, 1.0,\n",
       "                                                           'log-uniform'),\n",
       "                             'classifier__max_depth': [1, 2, 3, 4],\n",
       "                             'classifier__n_estimators': [100, 101, 102, 103,\n",
       "                                                          104, 105, 106, 107,\n",
       "                                                          108, 109, 110, 111,\n",
       "                                                          112, 113, 114, 115,\n",
       "                                                          116, 117, 118, 119,\n",
       "                                                          120, 121, 122, 123,\n",
       "                                                          124, 125, 126, 127,\n",
       "                                                          128, 129, ...]})"
      ]
     },
     "execution_count": 21,
     "metadata": {},
     "output_type": "execute_result"
    }
   ],
   "source": [
    "gb_model = GradientBoostingClassifier(random_state=22)\n",
    "gb_pipeline = Pipeline([('transformer',columnTransformer),\n",
    "                ('classifier', gb_model)])\n",
    "gb_params = {'classifier__n_estimators': list(range(100,500)),\n",
    "             'classifier__learning_rate': (1e-4, 1.0, \"log-uniform\"),\n",
    "             'classifier__max_depth' : list(range(1,5)),}\n",
    "gb_search = BayesSearchCV(estimator=gb_pipeline, search_spaces=gb_params, n_iter=32)\n",
    "gb_search.fit(X_train, y_train)"
   ]
  },
  {
   "cell_type": "code",
   "execution_count": 22,
   "id": "a4541751",
   "metadata": {},
   "outputs": [
    {
     "name": "stdout",
     "output_type": "stream",
     "text": [
      "The average score for the random forest classifier on the training data is 0.7856533333333334\n",
      "              precision    recall  f1-score   support\n",
      "\n",
      "       False       0.82      0.87      0.84      8088\n",
      "        True       0.73      0.65      0.69      4412\n",
      "\n",
      "    accuracy                           0.79     12500\n",
      "   macro avg       0.78      0.76      0.77     12500\n",
      "weighted avg       0.79      0.79      0.79     12500\n",
      "\n"
     ]
    }
   ],
   "source": [
    "print('The average score for the random forest classifier on the training data is {}'.format(gb_search.best_score_))\n",
    "\n",
    "y_pred_gb = gb_search.predict(X_test)\n",
    "\n",
    "print(classification_report(y_test, y_pred_gb))"
   ]
  },
  {
   "cell_type": "code",
   "execution_count": 23,
   "id": "b815acd8",
   "metadata": {},
   "outputs": [
    {
     "data": {
      "text/plain": [
       "OrderedDict([('classifier__learning_rate', 0.031497645156898076),\n",
       "             ('classifier__max_depth', 4),\n",
       "             ('classifier__n_estimators', 499)])"
      ]
     },
     "execution_count": 23,
     "metadata": {},
     "output_type": "execute_result"
    }
   ],
   "source": [
    "gb_search.best_params_"
   ]
  },
  {
   "cell_type": "markdown",
   "id": "a872d94d",
   "metadata": {},
   "source": [
    "The results indicate that both ensemble techniques (i.e., Random Forest and Gradient Boosting) reach about %78 overall accuracy and are able to identify about %90 of clients who are not retained (see the recall of the `False` class). The service provider may reach to those clients and offer them coupons to encourage them remain on the platform."
   ]
  },
  {
   "cell_type": "code",
   "execution_count": null,
   "id": "faa89349",
   "metadata": {},
   "outputs": [],
   "source": []
  }
 ],
 "metadata": {
  "kernelspec": {
   "display_name": "Python 3 (ipykernel)",
   "language": "python",
   "name": "python3"
  },
  "language_info": {
   "codemirror_mode": {
    "name": "ipython",
    "version": 3
   },
   "file_extension": ".py",
   "mimetype": "text/x-python",
   "name": "python",
   "nbconvert_exporter": "python",
   "pygments_lexer": "ipython3",
   "version": "3.7.0"
  }
 },
 "nbformat": 4,
 "nbformat_minor": 5
}
